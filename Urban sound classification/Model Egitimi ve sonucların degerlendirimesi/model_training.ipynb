{
 "cells": [
  {
   "cell_type": "markdown",
   "id": "256a0c37",
   "metadata": {},
   "source": [
    "### Gerekli Kütüphanelerin yüklenmesi"
   ]
  },
  {
   "cell_type": "code",
   "execution_count": 15,
   "id": "54def2f6",
   "metadata": {},
   "outputs": [],
   "source": [
    "import numpy as np\n",
    "import os\n",
    "import matplotlib.pyplot as plt\n",
    "import seaborn as sb\n",
    "\n",
    "from tensorflow.keras.layers import Conv2D,MaxPooling2D,Flatten,Dense,Dropout\n",
    "from tensorflow.keras.models import Sequential\n",
    "from tensorflow.keras.callbacks import EarlyStopping,ModelCheckpoint\n",
    "from tensorflow.keras.preprocessing.image import ImageDataGenerator\n",
    "from tensorflow.keras.models import load_model,save_model\n",
    "\n",
    "from keras.callbacks import CSVLogger\n",
    "from sklearn.metrics import confusion_matrix"
   ]
  },
  {
   "cell_type": "markdown",
   "id": "a0d915b6",
   "metadata": {},
   "source": [
    "### ImageGenerator yardımıyla verilerin normalizasyonu ve düzenlenmesi"
   ]
  },
  {
   "cell_type": "code",
   "execution_count": 2,
   "id": "2b45dd54",
   "metadata": {},
   "outputs": [],
   "source": [
    "train_data_gen = ImageDataGenerator(rescale=1./255)\n",
    "test_data_gen = ImageDataGenerator(rescale=1./255)\n",
    "valid_data_gen = ImageDataGenerator(rescale=1./255)"
   ]
  },
  {
   "cell_type": "code",
   "execution_count": 3,
   "id": "c153ce02",
   "metadata": {},
   "outputs": [],
   "source": [
    "train_path = r\"C:\\Users\\D4rkS\\Desktop\\python evr\\UrbanDataset_tr_tst_val\\train\"\n",
    "test_path = r\"C:\\Users\\D4rkS\\Desktop\\python evr\\UrbanDataset_tr_tst_val\\test\"\n",
    "valid_path = r\"C:\\Users\\D4rkS\\Desktop\\python evr\\UrbanDataset_tr_tst_val\\val\"\n",
    "batch_size = 32\n",
    "target_size = (64,64)"
   ]
  },
  {
   "cell_type": "code",
   "execution_count": 4,
   "id": "a9455e96",
   "metadata": {},
   "outputs": [
    {
     "name": "stdout",
     "output_type": "stream",
     "text": [
      "Found 6111 images belonging to 10 classes.\n"
     ]
    }
   ],
   "source": [
    "train = train_data_gen.flow_from_directory(\n",
    "        train_path,\n",
    "        target_size = target_size,\n",
    "        shuffle=False,\n",
    "        batch_size=batch_size,\n",
    "        class_mode=\"categorical\")"
   ]
  },
  {
   "cell_type": "code",
   "execution_count": 5,
   "id": "ba4ed2b9",
   "metadata": {},
   "outputs": [
    {
     "name": "stdout",
     "output_type": "stream",
     "text": [
      "Found 877 images belonging to 10 classes.\n"
     ]
    }
   ],
   "source": [
    "test = test_data_gen.flow_from_directory(\n",
    "        test_path,\n",
    "        shuffle=False,\n",
    "        target_size = target_size,\n",
    "        batch_size=batch_size,\n",
    "        class_mode=\"categorical\")"
   ]
  },
  {
   "cell_type": "code",
   "execution_count": 6,
   "id": "45607e40",
   "metadata": {},
   "outputs": [
    {
     "name": "stdout",
     "output_type": "stream",
     "text": [
      "Found 1744 images belonging to 10 classes.\n"
     ]
    }
   ],
   "source": [
    "valid = valid_data_gen.flow_from_directory(\n",
    "        valid_path,\n",
    "        shuffle=False,\n",
    "        target_size = target_size,\n",
    "        batch_size=batch_size,\n",
    "        class_mode=\"categorical\")"
   ]
  },
  {
   "cell_type": "code",
   "execution_count": null,
   "id": "603de464",
   "metadata": {},
   "outputs": [],
   "source": [
    "# Buradaki kod mevcut python ortamının GPU kullanımı ile ilgili, conda kullanıyorsanız ve çalışma ortamınızı biliyorsanız gerek yok \n",
    "\"\"\"\n",
    "def setup_gpus():\n",
    "    gpus = tf.config.list_physical_devices('GPU')\n",
    "    if gpus:\n",
    "        try:\n",
    "            tf.config.experimental.set_visible_devices(gpus[0],'GPU')\n",
    "            tf.config.experimental.set_virtual_device_configuration(gpus[0],[tf.config.experimental.VirtualDeviceConfiguration(memory_limit=1500)])\n",
    "        except RuntimeError as e:\n",
    "            print(e)\n",
    "\"\"\""
   ]
  },
  {
   "cell_type": "markdown",
   "id": "e53ae9d3",
   "metadata": {},
   "source": [
    "### Model Oluşturma"
   ]
  },
  {
   "cell_type": "code",
   "execution_count": 7,
   "id": "2e74b9d8",
   "metadata": {},
   "outputs": [],
   "source": [
    "# Erken durdurma ve en eğitim modelini yakalamak için earlystop ve modelCheckpoint kullanımı için gerekli tanımlamalar\n",
    "earlyStopping = EarlyStopping(monitor=\"val_loss\",\n",
    "                              patience=30,\n",
    "                              verbose=1,\n",
    "                              mode=\"min\")\n",
    "\n",
    "model_check = ModelCheckpoint(\"best_model\",\n",
    "                              monitor=\"val_accuracy\",\n",
    "                              mode=\"max\",\n",
    "                              verbose=1,\n",
    "                              save_weights_only=False)"
   ]
  },
  {
   "cell_type": "code",
   "execution_count": 8,
   "id": "5a74dfd9",
   "metadata": {},
   "outputs": [],
   "source": [
    "# Burada birkaç deneme sonucunda kabuledilebilir sonuçlar veren model eğitime sokulmuştur:\n",
    "model = Sequential()\n",
    "model.add(Conv2D(32,(3,3),input_shape=(64,64,3),strides=(1,1),activation=\"relu\"))\n",
    "model.add(MaxPooling2D((2,2)))\n",
    "model.add(Conv2D(64,(3,3),strides=(1,1),activation=\"relu\"))\n",
    "model.add(MaxPooling2D((2,2)))\n",
    "model.add(Dropout(0.5))\n",
    "model.add(Conv2D(128,(3,3),strides=(1,1),activation=\"relu\"))\n",
    "model.add(MaxPooling2D((2,2)))\n",
    "model.add(Dropout(0.5))\n",
    "#model.add(Conv2D(128,(3,3),strides=(1,1),activation=\"relu\"))\n",
    "#model.add(MaxPooling2D((2,2)))\n",
    "#model.add(Dropout(0.5))\n",
    "model.add(Flatten())\n",
    "model.add(Dense(512,activation=\"relu\"))\n",
    "model.add(Dropout(0.5))\n",
    "#model.add(Dense(256,activation=\"relu\"))\n",
    "#model.add(Dropout(0.5))\n",
    "model.add(Dense(10,activation=\"softmax\"))"
   ]
  },
  {
   "cell_type": "code",
   "execution_count": 9,
   "id": "c7ba10c6",
   "metadata": {},
   "outputs": [
    {
     "name": "stdout",
     "output_type": "stream",
     "text": [
      "Model: \"sequential\"\n",
      "_________________________________________________________________\n",
      " Layer (type)                Output Shape              Param #   \n",
      "=================================================================\n",
      " conv2d (Conv2D)             (None, 62, 62, 32)        896       \n",
      "                                                                 \n",
      " max_pooling2d (MaxPooling2D  (None, 31, 31, 32)       0         \n",
      " )                                                               \n",
      "                                                                 \n",
      " conv2d_1 (Conv2D)           (None, 29, 29, 64)        18496     \n",
      "                                                                 \n",
      " max_pooling2d_1 (MaxPooling  (None, 14, 14, 64)       0         \n",
      " 2D)                                                             \n",
      "                                                                 \n",
      " dropout (Dropout)           (None, 14, 14, 64)        0         \n",
      "                                                                 \n",
      " conv2d_2 (Conv2D)           (None, 12, 12, 128)       73856     \n",
      "                                                                 \n",
      " max_pooling2d_2 (MaxPooling  (None, 6, 6, 128)        0         \n",
      " 2D)                                                             \n",
      "                                                                 \n",
      " dropout_1 (Dropout)         (None, 6, 6, 128)         0         \n",
      "                                                                 \n",
      " flatten (Flatten)           (None, 4608)              0         \n",
      "                                                                 \n",
      " dense (Dense)               (None, 512)               2359808   \n",
      "                                                                 \n",
      " dropout_2 (Dropout)         (None, 512)               0         \n",
      "                                                                 \n",
      " dense_1 (Dense)             (None, 10)                5130      \n",
      "                                                                 \n",
      "=================================================================\n",
      "Total params: 2,458,186\n",
      "Trainable params: 2,458,186\n",
      "Non-trainable params: 0\n",
      "_________________________________________________________________\n"
     ]
    }
   ],
   "source": [
    "# Modelin compile edilmesi ve özetinin ekrana yazılması\n",
    "model.compile(optimizer=\"adam\",loss=\"categorical_crossentropy\",metrics=[\"accuracy\"])\n",
    "model.summary()"
   ]
  },
  {
   "cell_type": "markdown",
   "id": "7bc99cae",
   "metadata": {},
   "source": [
    "### Model eğitimi ve modelin kaydedilmesi"
   ]
  },
  {
   "cell_type": "code",
   "execution_count": 10,
   "id": "3c851f44",
   "metadata": {},
   "outputs": [
    {
     "name": "stdout",
     "output_type": "stream",
     "text": [
      "Epoch 1/250\n",
      "191/191 [==============================] - 87s 440ms/step - loss: 1.7550 - accuracy: 0.3564 - val_loss: 1.3278 - val_accuracy: 0.5642\n",
      "Epoch 2/250\n",
      "191/191 [==============================] - 84s 440ms/step - loss: 1.1899 - accuracy: 0.5816 - val_loss: 0.9820 - val_accuracy: 0.6823\n",
      "Epoch 3/250\n",
      "191/191 [==============================] - 80s 416ms/step - loss: 0.9693 - accuracy: 0.6730 - val_loss: 0.8372 - val_accuracy: 0.7391\n",
      "Epoch 4/250\n",
      "191/191 [==============================] - 81s 423ms/step - loss: 0.8131 - accuracy: 0.7241 - val_loss: 0.7686 - val_accuracy: 0.7443\n",
      "Epoch 5/250\n",
      "191/191 [==============================] - 84s 442ms/step - loss: 0.7346 - accuracy: 0.7521 - val_loss: 0.6916 - val_accuracy: 0.7729\n",
      "Epoch 6/250\n",
      "191/191 [==============================] - 85s 443ms/step - loss: 0.6477 - accuracy: 0.7817 - val_loss: 0.6810 - val_accuracy: 0.7873\n",
      "Epoch 7/250\n",
      "191/191 [==============================] - 85s 445ms/step - loss: 0.5787 - accuracy: 0.8025 - val_loss: 0.5513 - val_accuracy: 0.8165\n",
      "Epoch 8/250\n",
      "191/191 [==============================] - 80s 417ms/step - loss: 0.5182 - accuracy: 0.8274 - val_loss: 0.5234 - val_accuracy: 0.8377\n",
      "Epoch 9/250\n",
      "191/191 [==============================] - 74s 385ms/step - loss: 0.4753 - accuracy: 0.8375 - val_loss: 0.4528 - val_accuracy: 0.8555\n",
      "Epoch 10/250\n",
      "191/191 [==============================] - 79s 412ms/step - loss: 0.4473 - accuracy: 0.8488 - val_loss: 0.4522 - val_accuracy: 0.8578\n",
      "Epoch 11/250\n",
      "191/191 [==============================] - 72s 374ms/step - loss: 0.4027 - accuracy: 0.8683 - val_loss: 0.4603 - val_accuracy: 0.8503\n",
      "Epoch 12/250\n",
      "191/191 [==============================] - 76s 396ms/step - loss: 0.3679 - accuracy: 0.8774 - val_loss: 0.3860 - val_accuracy: 0.8761\n",
      "Epoch 13/250\n",
      "191/191 [==============================] - 78s 406ms/step - loss: 0.3321 - accuracy: 0.8879 - val_loss: 0.4280 - val_accuracy: 0.8572\n",
      "Epoch 14/250\n",
      "191/191 [==============================] - 76s 397ms/step - loss: 0.3284 - accuracy: 0.8877 - val_loss: 0.3973 - val_accuracy: 0.8761\n",
      "Epoch 15/250\n",
      "191/191 [==============================] - 79s 413ms/step - loss: 0.3214 - accuracy: 0.8948 - val_loss: 0.3873 - val_accuracy: 0.8802\n",
      "Epoch 16/250\n",
      "191/191 [==============================] - 72s 378ms/step - loss: 0.2907 - accuracy: 0.9018 - val_loss: 0.3870 - val_accuracy: 0.8681\n",
      "Epoch 17/250\n",
      "191/191 [==============================] - 71s 371ms/step - loss: 0.2691 - accuracy: 0.9067 - val_loss: 0.3674 - val_accuracy: 0.8802\n",
      "Epoch 18/250\n",
      "191/191 [==============================] - 71s 369ms/step - loss: 0.2508 - accuracy: 0.9169 - val_loss: 0.3620 - val_accuracy: 0.8796\n",
      "Epoch 19/250\n",
      "191/191 [==============================] - 71s 372ms/step - loss: 0.2381 - accuracy: 0.9167 - val_loss: 0.3966 - val_accuracy: 0.8744\n",
      "Epoch 20/250\n",
      "191/191 [==============================] - 71s 374ms/step - loss: 0.2364 - accuracy: 0.9139 - val_loss: 0.4087 - val_accuracy: 0.8675\n",
      "Epoch 21/250\n",
      "191/191 [==============================] - 73s 379ms/step - loss: 0.2114 - accuracy: 0.9262 - val_loss: 0.3506 - val_accuracy: 0.8888\n",
      "Epoch 22/250\n",
      "191/191 [==============================] - 76s 396ms/step - loss: 0.2029 - accuracy: 0.9324 - val_loss: 0.3849 - val_accuracy: 0.8911\n",
      "Epoch 23/250\n",
      "191/191 [==============================] - 77s 402ms/step - loss: 0.1955 - accuracy: 0.9339 - val_loss: 0.3533 - val_accuracy: 0.8951\n",
      "Epoch 24/250\n",
      "191/191 [==============================] - 73s 380ms/step - loss: 0.1932 - accuracy: 0.9347 - val_loss: 0.3559 - val_accuracy: 0.8893\n",
      "Epoch 25/250\n",
      "191/191 [==============================] - 76s 395ms/step - loss: 0.1840 - accuracy: 0.9381 - val_loss: 0.4052 - val_accuracy: 0.8704\n",
      "Epoch 26/250\n",
      "191/191 [==============================] - 76s 397ms/step - loss: 0.1899 - accuracy: 0.9370 - val_loss: 0.3340 - val_accuracy: 0.9002\n",
      "Epoch 27/250\n",
      "191/191 [==============================] - 74s 387ms/step - loss: 0.1548 - accuracy: 0.9453 - val_loss: 0.3744 - val_accuracy: 0.8956\n",
      "Epoch 28/250\n",
      "191/191 [==============================] - 74s 385ms/step - loss: 0.1795 - accuracy: 0.9421 - val_loss: 0.3681 - val_accuracy: 0.8922\n",
      "Epoch 29/250\n",
      "191/191 [==============================] - 76s 397ms/step - loss: 0.1654 - accuracy: 0.9468 - val_loss: 0.3482 - val_accuracy: 0.9048\n",
      "Epoch 30/250\n",
      "191/191 [==============================] - 75s 392ms/step - loss: 0.1731 - accuracy: 0.9386 - val_loss: 0.3512 - val_accuracy: 0.8939\n",
      "Epoch 31/250\n",
      "191/191 [==============================] - 74s 388ms/step - loss: 0.1639 - accuracy: 0.9450 - val_loss: 0.3170 - val_accuracy: 0.9002\n",
      "Epoch 32/250\n",
      "191/191 [==============================] - 75s 390ms/step - loss: 0.1407 - accuracy: 0.9529 - val_loss: 0.3513 - val_accuracy: 0.8939\n",
      "Epoch 33/250\n",
      "191/191 [==============================] - 74s 388ms/step - loss: 0.1406 - accuracy: 0.9496 - val_loss: 0.3659 - val_accuracy: 0.8899\n",
      "Epoch 34/250\n",
      "191/191 [==============================] - 73s 384ms/step - loss: 0.1459 - accuracy: 0.9509 - val_loss: 0.3655 - val_accuracy: 0.8991\n",
      "Epoch 35/250\n",
      "191/191 [==============================] - 74s 385ms/step - loss: 0.1256 - accuracy: 0.9578 - val_loss: 0.3570 - val_accuracy: 0.9042\n",
      "Epoch 36/250\n",
      "191/191 [==============================] - 73s 383ms/step - loss: 0.1492 - accuracy: 0.9493 - val_loss: 0.3402 - val_accuracy: 0.9019\n",
      "Epoch 37/250\n",
      "191/191 [==============================] - 75s 392ms/step - loss: 0.1481 - accuracy: 0.9501 - val_loss: 0.4164 - val_accuracy: 0.8767\n",
      "Epoch 38/250\n",
      "191/191 [==============================] - 74s 385ms/step - loss: 0.1392 - accuracy: 0.9522 - val_loss: 0.3722 - val_accuracy: 0.8956\n",
      "Epoch 39/250\n",
      "191/191 [==============================] - 74s 385ms/step - loss: 0.1273 - accuracy: 0.9550 - val_loss: 0.3623 - val_accuracy: 0.8962\n",
      "Epoch 40/250\n",
      "191/191 [==============================] - 74s 387ms/step - loss: 0.1179 - accuracy: 0.9599 - val_loss: 0.3481 - val_accuracy: 0.8997\n",
      "Epoch 41/250\n",
      "191/191 [==============================] - 74s 385ms/step - loss: 0.1361 - accuracy: 0.9548 - val_loss: 0.3753 - val_accuracy: 0.9048\n",
      "Epoch 42/250\n",
      "191/191 [==============================] - 76s 398ms/step - loss: 0.1298 - accuracy: 0.9571 - val_loss: 0.3346 - val_accuracy: 0.9048\n",
      "Epoch 43/250\n",
      "191/191 [==============================] - 74s 386ms/step - loss: 0.1323 - accuracy: 0.9552 - val_loss: 0.3827 - val_accuracy: 0.8974\n",
      "Epoch 44/250\n",
      "191/191 [==============================] - 74s 385ms/step - loss: 0.1275 - accuracy: 0.9566 - val_loss: 0.3816 - val_accuracy: 0.9077\n",
      "Epoch 45/250\n",
      "191/191 [==============================] - 72s 379ms/step - loss: 0.1240 - accuracy: 0.9601 - val_loss: 0.3808 - val_accuracy: 0.9002\n",
      "Epoch 46/250\n",
      "191/191 [==============================] - 71s 370ms/step - loss: 0.1101 - accuracy: 0.9596 - val_loss: 0.3587 - val_accuracy: 0.9071\n",
      "Epoch 47/250\n",
      "191/191 [==============================] - 70s 365ms/step - loss: 0.1232 - accuracy: 0.9604 - val_loss: 0.3523 - val_accuracy: 0.9031\n",
      "Epoch 48/250\n",
      "191/191 [==============================] - 70s 365ms/step - loss: 0.1037 - accuracy: 0.9648 - val_loss: 0.4299 - val_accuracy: 0.8951\n",
      "Epoch 49/250\n",
      "191/191 [==============================] - 70s 366ms/step - loss: 0.1072 - accuracy: 0.9633 - val_loss: 0.4258 - val_accuracy: 0.8847\n",
      "Epoch 50/250\n",
      "191/191 [==============================] - 70s 365ms/step - loss: 0.1098 - accuracy: 0.9642 - val_loss: 0.3722 - val_accuracy: 0.9019\n",
      "Epoch 51/250\n",
      "191/191 [==============================] - 70s 365ms/step - loss: 0.1081 - accuracy: 0.9660 - val_loss: 0.3887 - val_accuracy: 0.9008\n",
      "Epoch 52/250\n",
      "191/191 [==============================] - 70s 364ms/step - loss: 0.1267 - accuracy: 0.9604 - val_loss: 0.3582 - val_accuracy: 0.9060\n",
      "Epoch 53/250\n",
      "191/191 [==============================] - 70s 366ms/step - loss: 0.1207 - accuracy: 0.9599 - val_loss: 0.3748 - val_accuracy: 0.8962\n",
      "Epoch 54/250\n",
      "191/191 [==============================] - 70s 366ms/step - loss: 0.1137 - accuracy: 0.9627 - val_loss: 0.3506 - val_accuracy: 0.9048\n",
      "Epoch 55/250\n",
      "191/191 [==============================] - 70s 365ms/step - loss: 0.1155 - accuracy: 0.9642 - val_loss: 0.3505 - val_accuracy: 0.9088\n",
      "Epoch 56/250\n",
      "191/191 [==============================] - 70s 366ms/step - loss: 0.0941 - accuracy: 0.9707 - val_loss: 0.3796 - val_accuracy: 0.9111\n"
     ]
    },
    {
     "name": "stdout",
     "output_type": "stream",
     "text": [
      "Epoch 57/250\n",
      "191/191 [==============================] - 70s 365ms/step - loss: 0.1097 - accuracy: 0.9656 - val_loss: 0.3304 - val_accuracy: 0.9157\n",
      "Epoch 58/250\n",
      "191/191 [==============================] - 70s 366ms/step - loss: 0.0886 - accuracy: 0.9683 - val_loss: 0.4016 - val_accuracy: 0.8997\n",
      "Epoch 59/250\n",
      "191/191 [==============================] - 70s 364ms/step - loss: 0.1171 - accuracy: 0.9661 - val_loss: 0.4002 - val_accuracy: 0.9042\n",
      "Epoch 60/250\n",
      "191/191 [==============================] - 70s 366ms/step - loss: 0.1049 - accuracy: 0.9660 - val_loss: 0.4342 - val_accuracy: 0.8905\n",
      "Epoch 61/250\n",
      "191/191 [==============================] - 72s 374ms/step - loss: 0.1098 - accuracy: 0.9647 - val_loss: 0.3709 - val_accuracy: 0.9134\n",
      "Epoch 00061: early stopping\n",
      "INFO:tensorflow:Assets written to: model_11\\assets\n"
     ]
    }
   ],
   "source": [
    "csv_logger = CSVLogger('training.log', separator=',', append=False)\n",
    "history = model.fit(train,epochs=250,\n",
    "                    validation_data=valid,\n",
    "                    verbose=1,\n",
    "                    batch_size=32,\n",
    "                    callbacks=[csv_logger,earlyStopping]\n",
    "                    )\n",
    "model.save('model_11')\n"
   ]
  },
  {
   "cell_type": "markdown",
   "id": "d45bac1e",
   "metadata": {},
   "source": [
    "### Sonuçların analiz edilmesi"
   ]
  },
  {
   "cell_type": "code",
   "execution_count": 11,
   "id": "18e5d2ef",
   "metadata": {},
   "outputs": [
    {
     "data": {
      "image/png": "[encoded data removed]",
      "text/plain": [
       "<Figure size 864x576 with 1 Axes>"
      ]
     },
     "metadata": {
      "needs_background": "light"
     },
     "output_type": "display_data"
    }
   ],
   "source": [
    "# Modelin eğitim ve validation için doğruluk grafiklerinin çizilmesi, olası overfitting durumunun analizi için\n",
    "# Grafikten de anlaşılacağı üzere eğitim ve doğrulama grafikleri bir birine yakın seyretmekte, bu da istenilen birşey tabiki\n",
    "acc = model.history.history[\"accuracy\"]\n",
    "acc_val = model.history.history[\"val_accuracy\"]\n",
    "epochs = range(1,len(acc)+1)\n",
    "\n",
    "plt.figure(figsize = (12,8))\n",
    "plt.plot(epochs,acc,label=\"Eğitim Doğruluk Oranı\")\n",
    "plt.plot(epochs,acc_val,label=\"Validation Verisi Doğruluk Oranı\")\n",
    "plt.xlabel(\"Epochs\")\n",
    "plt.ylabel(\"Accuracy\")\n",
    "plt.legend()\n",
    "plt.show()"
   ]
  },
  {
   "cell_type": "code",
   "execution_count": 12,
   "id": "45d99c25",
   "metadata": {},
   "outputs": [
    {
     "data": {
      "image/png": "[encoded data removed]",
      "text/plain": [
       "<Figure size 864x576 with 1 Axes>"
      ]
     },
     "metadata": {
      "needs_background": "light"
     },
     "output_type": "display_data"
    }
   ],
   "source": [
    "# Aynı şekilde modelin eğitim ve doğrulama'daki kayıpların görselleştirilmesi de bir birine yakın\n",
    "\n",
    "loss = history.history[\"loss\"]\n",
    "val_loss = history.history[\"val_loss\"]\n",
    "epochs = range(1,len(acc)+1)\n",
    "\n",
    "plt.figure(figsize = (12,8))\n",
    "plt.plot(epochs,loss,label=\"Eğitim Kaybı\")\n",
    "plt.plot(epochs,val_loss,label=\"Validation Kaybı\")\n",
    "plt.xlabel(\"Epochs\")\n",
    "plt.ylabel(\"Loss\")\n",
    "plt.legend()\n",
    "plt.show()\n"
   ]
  },
  {
   "cell_type": "code",
   "execution_count": 14,
   "id": "e3262ab5",
   "metadata": {},
   "outputs": [
    {
     "name": "stdout",
     "output_type": "stream",
     "text": [
      "28/28 [==============================] - 9s 301ms/step - loss: 0.4118 - accuracy: 0.8928\n"
     ]
    },
    {
     "data": {
      "text/plain": [
       "[0.41183239221572876, 0.892816424369812]"
      ]
     },
     "execution_count": 14,
     "metadata": {},
     "output_type": "execute_result"
    }
   ],
   "source": [
    "# test için ayırtdığımız verinin doğruluk ve kayıp değerlerinin hesaplanması\n",
    "model.evaluate(test) "
   ]
  },
  {
   "cell_type": "code",
   "execution_count": null,
   "id": "64dabf15",
   "metadata": {},
   "outputs": [],
   "source": []
  },
  {
   "cell_type": "code",
   "execution_count": null,
   "id": "318f6ff2",
   "metadata": {},
   "outputs": [],
   "source": []
  },
  {
   "cell_type": "code",
   "execution_count": null,
   "id": "85b5a262",
   "metadata": {},
   "outputs": [],
   "source": []
  },
  {
   "cell_type": "code",
   "execution_count": null,
   "id": "cf336e64",
   "metadata": {},
   "outputs": [],
   "source": []
  },
  {
   "cell_type": "code",
   "execution_count": null,
   "id": "d1e4d710",
   "metadata": {},
   "outputs": [],
   "source": []
  },
  {
   "cell_type": "code",
   "execution_count": null,
   "id": "b0e6bc5e",
   "metadata": {},
   "outputs": [],
   "source": [
    "\n"
   ]
  },
  {
   "cell_type": "code",
   "execution_count": null,
   "id": "ebc49280",
   "metadata": {},
   "outputs": [],
   "source": []
  },
  {
   "cell_type": "code",
   "execution_count": null,
   "id": "a603526e",
   "metadata": {},
   "outputs": [],
   "source": []
  }
 ],
 "metadata": {
  "kernelspec": {
   "display_name": "Python 3.9 (tensorflowGPU)",
   "language": "python",
   "name": "tensorflowgpu"
  },
  "language_info": {
   "codemirror_mode": {
    "name": "ipython",
    "version": 3
   },
   "file_extension": ".py",
   "mimetype": "text/x-python",
   "name": "python",
   "nbconvert_exporter": "python",
   "pygments_lexer": "ipython3",
   "version": "3.9.7"
  }
 },
 "nbformat": 4,
 "nbformat_minor": 5
}
